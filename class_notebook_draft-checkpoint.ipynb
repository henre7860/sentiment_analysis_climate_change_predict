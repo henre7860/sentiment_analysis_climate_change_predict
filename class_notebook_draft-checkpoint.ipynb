{
 "cells": [
  {
   "cell_type": "markdown",
   "id": "35e2c427",
   "metadata": {},
   "source": [
    "# Introduction"
   ]
  },
  {
   "cell_type": "markdown",
   "id": "617a1054",
   "metadata": {},
   "source": [
    "Climate change and its consequences have become one of the major concerns worldwide. As such, public education has been rolled down by various governments. To get an insight into the public opinion about climate change, social media websites such as Twitter can be used to mine data on topics related to climate change. This project will analyze a dataset of geotagged tweets containing certain keywords relating to climate change. The main objectives are to:\n",
    "1.\tVisualize the level of awareness about climate change\n",
    "2.\tunderstand the geospatial trends or buzz words\n",
    "3.\thave a model that will predict the sentiment of the tweet"
   ]
  },
  {
   "cell_type": "code",
   "execution_count": 28,
   "id": "64078790",
   "metadata": {},
   "outputs": [
    {
     "name": "stdout",
     "output_type": "stream",
     "text": [
      "Collecting squarify\n",
      "  Downloading squarify-0.4.3-py3-none-any.whl (4.3 kB)\n",
      "Installing collected packages: squarify\n",
      "Successfully installed squarify-0.4.3\n",
      "Note: you may need to restart the kernel to use updated packages.\n"
     ]
    }
   ],
   "source": [
    "pip install squarify"
   ]
  },
  {
   "cell_type": "code",
   "execution_count": 34,
   "id": "d5c93172",
   "metadata": {},
   "outputs": [],
   "source": [
    "#libraries to load data and perfom mathematical operations\n",
    "import pandas as pd\n",
    "import numpy as np\n",
    "#libraries to visualize\n",
    "import matplotlib.pyplot as plt\n",
    "import seaborn as sns\n",
    "#libraries to preprocess data\n",
    "import nltk\n",
    "import itertools\n",
    "from nltk.corpus import stopwords\n",
    "import string\n",
    "from tqdm.auto import tqdm\n",
    "from sklearn.feature_extraction.text import CountVectorizer   \n",
    "from sklearn.feature_extraction.text import TfidfVectorizer\n",
    "from sklearn.feature_extraction.text import TfidfTransformer \n",
    "from sklearn.model_selection import train_test_split\n",
    "# Building classification models\n",
    "from sklearn.svm import LinearSVC\n",
    "from sklearn.pipeline import Pipeline\n",
    "from sklearn.naive_bayes import MultinomialNB\n",
    "from sklearn.neighbors import KNeighborsClassifier\n",
    "from sklearn.ensemble import RandomForestClassifier\n",
    "from sklearn.linear_model import LogisticRegression\n",
    "# Model evaluation\n",
    "from sklearn import metrics\n",
    "from sklearn.metrics import classification_report, confusion_matrix, f1_score, precision_score, recall_score"
   ]
  },
  {
   "cell_type": "code",
   "execution_count": 35,
   "id": "e20d87ef",
   "metadata": {},
   "outputs": [],
   "source": [
    "#import datasets\n",
    "train = pd.read_csv('train.csv')\n",
    "test = pd.read_csv('test_with_no_labels.csv')"
   ]
  },
  {
   "cell_type": "markdown",
   "id": "b36c0dd7",
   "metadata": {},
   "source": [
    "Now we will have a quick look at the train dataset and try to understand what it caontains. "
   ]
  },
  {
   "cell_type": "code",
   "execution_count": 36,
   "id": "e28d9d77",
   "metadata": {},
   "outputs": [
    {
     "data": {
      "text/html": [
       "<div>\n",
       "<style scoped>\n",
       "    .dataframe tbody tr th:only-of-type {\n",
       "        vertical-align: middle;\n",
       "    }\n",
       "\n",
       "    .dataframe tbody tr th {\n",
       "        vertical-align: top;\n",
       "    }\n",
       "\n",
       "    .dataframe thead th {\n",
       "        text-align: right;\n",
       "    }\n",
       "</style>\n",
       "<table border=\"1\" class=\"dataframe\">\n",
       "  <thead>\n",
       "    <tr style=\"text-align: right;\">\n",
       "      <th></th>\n",
       "      <th>sentiment</th>\n",
       "      <th>message</th>\n",
       "      <th>tweetid</th>\n",
       "    </tr>\n",
       "  </thead>\n",
       "  <tbody>\n",
       "    <tr>\n",
       "      <th>0</th>\n",
       "      <td>1</td>\n",
       "      <td>PolySciMajor EPA chief doesn't think carbon di...</td>\n",
       "      <td>625221</td>\n",
       "    </tr>\n",
       "    <tr>\n",
       "      <th>1</th>\n",
       "      <td>1</td>\n",
       "      <td>It's not like we lack evidence of anthropogeni...</td>\n",
       "      <td>126103</td>\n",
       "    </tr>\n",
       "    <tr>\n",
       "      <th>2</th>\n",
       "      <td>2</td>\n",
       "      <td>RT @RawStory: Researchers say we have three ye...</td>\n",
       "      <td>698562</td>\n",
       "    </tr>\n",
       "    <tr>\n",
       "      <th>3</th>\n",
       "      <td>1</td>\n",
       "      <td>#TodayinMaker# WIRED : 2016 was a pivotal year...</td>\n",
       "      <td>573736</td>\n",
       "    </tr>\n",
       "    <tr>\n",
       "      <th>4</th>\n",
       "      <td>1</td>\n",
       "      <td>RT @SoyNovioDeTodas: It's 2016, and a racist, ...</td>\n",
       "      <td>466954</td>\n",
       "    </tr>\n",
       "    <tr>\n",
       "      <th>5</th>\n",
       "      <td>1</td>\n",
       "      <td>Worth a read whether you do or don't believe i...</td>\n",
       "      <td>425577</td>\n",
       "    </tr>\n",
       "    <tr>\n",
       "      <th>6</th>\n",
       "      <td>1</td>\n",
       "      <td>RT @thenation: Mike Pence doesn’t believe in g...</td>\n",
       "      <td>294933</td>\n",
       "    </tr>\n",
       "    <tr>\n",
       "      <th>7</th>\n",
       "      <td>1</td>\n",
       "      <td>RT @makeandmendlife: Six big things we can ALL...</td>\n",
       "      <td>992717</td>\n",
       "    </tr>\n",
       "    <tr>\n",
       "      <th>8</th>\n",
       "      <td>1</td>\n",
       "      <td>@AceofSpadesHQ My 8yo nephew is inconsolable. ...</td>\n",
       "      <td>664510</td>\n",
       "    </tr>\n",
       "    <tr>\n",
       "      <th>9</th>\n",
       "      <td>1</td>\n",
       "      <td>RT @paigetweedy: no offense… but like… how do ...</td>\n",
       "      <td>260471</td>\n",
       "    </tr>\n",
       "  </tbody>\n",
       "</table>\n",
       "</div>"
      ],
      "text/plain": [
       "   sentiment                                            message  tweetid\n",
       "0          1  PolySciMajor EPA chief doesn't think carbon di...   625221\n",
       "1          1  It's not like we lack evidence of anthropogeni...   126103\n",
       "2          2  RT @RawStory: Researchers say we have three ye...   698562\n",
       "3          1  #TodayinMaker# WIRED : 2016 was a pivotal year...   573736\n",
       "4          1  RT @SoyNovioDeTodas: It's 2016, and a racist, ...   466954\n",
       "5          1  Worth a read whether you do or don't believe i...   425577\n",
       "6          1  RT @thenation: Mike Pence doesn’t believe in g...   294933\n",
       "7          1  RT @makeandmendlife: Six big things we can ALL...   992717\n",
       "8          1  @AceofSpadesHQ My 8yo nephew is inconsolable. ...   664510\n",
       "9          1  RT @paigetweedy: no offense… but like… how do ...   260471"
      ]
     },
     "execution_count": 36,
     "metadata": {},
     "output_type": "execute_result"
    }
   ],
   "source": [
    "#having a look at the train datasets\n",
    "train.head(10)"
   ]
  },
  {
   "cell_type": "code",
   "execution_count": 37,
   "id": "97ed85a7",
   "metadata": {},
   "outputs": [
    {
     "name": "stdout",
     "output_type": "stream",
     "text": [
      "<class 'pandas.core.frame.DataFrame'>\n",
      "RangeIndex: 15819 entries, 0 to 15818\n",
      "Data columns (total 3 columns):\n",
      " #   Column     Non-Null Count  Dtype \n",
      "---  ------     --------------  ----- \n",
      " 0   sentiment  15819 non-null  int64 \n",
      " 1   message    15819 non-null  object\n",
      " 2   tweetid    15819 non-null  int64 \n",
      "dtypes: int64(2), object(1)\n",
      "memory usage: 370.9+ KB\n"
     ]
    }
   ],
   "source": [
    "train.info()"
   ]
  },
  {
   "cell_type": "code",
   "execution_count": 38,
   "id": "9a8efcd0",
   "metadata": {},
   "outputs": [
    {
     "data": {
      "text/plain": [
       "(15819, 3)"
      ]
     },
     "execution_count": 38,
     "metadata": {},
     "output_type": "execute_result"
    }
   ],
   "source": [
    "train.shape"
   ]
  },
  {
   "cell_type": "markdown",
   "id": "a40d8140",
   "metadata": {},
   "source": [
    "The scale of numbers on the sentiment does not give information that humans can understand. To be able to visualize the people's sentiments we will need to understand what they they mean. The scale will be transformed as follows:\n",
    "\n",
    "The negative sentiment corresponds to negative opinion: strongly disagree\n",
    "\n",
    "The zero sentiment corresponds to a neutral opinion: neutral\n",
    "\n",
    "the positive sentiment corresponds to positive opinion: Agree\n",
    "\n",
    "The high positive sentiment corresponds to a high positive opinion: Strongly agree"
   ]
  },
  {
   "cell_type": "code",
   "execution_count": 39,
   "id": "87da5b7e",
   "metadata": {},
   "outputs": [],
   "source": [
    "#first make a copy of datasets before making changes\n",
    "train_copy = train\n",
    "#then convert classes to human understandable language\n",
    "sentiment_human = {-1: \"strongly_disagree\", 0: \"neutral\", 1: \"agree\", 2: \"strongly_agree\"}\n",
    "train_copy[\"sentiment\"] = train_copy[\"sentiment\"].apply(lambda num: sentiment_human[num])\n"
   ]
  },
  {
   "cell_type": "code",
   "execution_count": 40,
   "id": "0d353b59",
   "metadata": {},
   "outputs": [
    {
     "data": {
      "text/html": [
       "<div>\n",
       "<style scoped>\n",
       "    .dataframe tbody tr th:only-of-type {\n",
       "        vertical-align: middle;\n",
       "    }\n",
       "\n",
       "    .dataframe tbody tr th {\n",
       "        vertical-align: top;\n",
       "    }\n",
       "\n",
       "    .dataframe thead th {\n",
       "        text-align: right;\n",
       "    }\n",
       "</style>\n",
       "<table border=\"1\" class=\"dataframe\">\n",
       "  <thead>\n",
       "    <tr style=\"text-align: right;\">\n",
       "      <th></th>\n",
       "      <th>message</th>\n",
       "      <th>tweetid</th>\n",
       "    </tr>\n",
       "    <tr>\n",
       "      <th>sentiment</th>\n",
       "      <th></th>\n",
       "      <th></th>\n",
       "    </tr>\n",
       "  </thead>\n",
       "  <tbody>\n",
       "    <tr>\n",
       "      <th>agree</th>\n",
       "      <td>7224</td>\n",
       "      <td>8530</td>\n",
       "    </tr>\n",
       "    <tr>\n",
       "      <th>neutral</th>\n",
       "      <td>2245</td>\n",
       "      <td>2353</td>\n",
       "    </tr>\n",
       "    <tr>\n",
       "      <th>strongly_agree</th>\n",
       "      <td>3542</td>\n",
       "      <td>3640</td>\n",
       "    </tr>\n",
       "    <tr>\n",
       "      <th>strongly_disagree</th>\n",
       "      <td>1222</td>\n",
       "      <td>1296</td>\n",
       "    </tr>\n",
       "  </tbody>\n",
       "</table>\n",
       "</div>"
      ],
      "text/plain": [
       "                   message  tweetid\n",
       "sentiment                          \n",
       "agree                 7224     8530\n",
       "neutral               2245     2353\n",
       "strongly_agree        3542     3640\n",
       "strongly_disagree     1222     1296"
      ]
     },
     "execution_count": 40,
     "metadata": {},
     "output_type": "execute_result"
    }
   ],
   "source": [
    "#how many unique tweets in each class?\n",
    "train_copy.groupby('sentiment').nunique()"
   ]
  },
  {
   "cell_type": "code",
   "execution_count": 41,
   "id": "50f6922d",
   "metadata": {},
   "outputs": [
    {
     "name": "stderr",
     "output_type": "stream",
     "text": [
      "C:\\Users\\sjtsi\\Anaconda3\\lib\\site-packages\\seaborn\\_decorators.py:36: FutureWarning: Pass the following variable as a keyword arg: x. From version 0.12, the only valid positional argument will be `data`, and passing other arguments without an explicit keyword will result in an error or misinterpretation.\n",
      "  warnings.warn(\n"
     ]
    },
    {
     "data": {
      "text/plain": [
       "<AxesSubplot:xlabel='sentiment', ylabel='count'>"
      ]
     },
     "execution_count": 41,
     "metadata": {},
     "output_type": "execute_result"
    },
    {
     "data": {
      "image/png": "[encoded data removed]",
      "text/plain": [
       "<Figure size 600x500 with 1 Axes>"
      ]
     },
     "metadata": {
      "needs_background": "light"
     },
     "output_type": "display_data"
    }
   ],
   "source": [
    "#visualize using countplot\n",
    "fig, axes = plt.subplots(1,figsize=(6, 5), dpi=100)\n",
    "sns.countplot(train_copy[\"sentiment\"])"
   ]
  },
  {
   "cell_type": "markdown",
   "id": "d750cc00",
   "metadata": {},
   "source": [
    "Observation: The number of tweets in agree with global warming are the highest. The tweets that have a negative class 'strongly_disagree' are at the lowest"
   ]
  },
  {
   "cell_type": "markdown",
   "id": "2d143bde",
   "metadata": {},
   "source": [
    "Now we will try to figure out what are the top 5 trends of buzz words used in each class"
   ]
  },
  {
   "cell_type": "markdown",
   "id": "e8357feb",
   "metadata": {},
   "source": [
    "Now we want to find out if there is a correlation between the sentiment class and the lenth of the tweet. "
   ]
  },
  {
   "cell_type": "code",
   "execution_count": 43,
   "id": "d6576317",
   "metadata": {},
   "outputs": [
    {
     "data": {
      "text/plain": [
       "array([[<AxesSubplot:title={'center':'agree'}>,\n",
       "        <AxesSubplot:title={'center':'neutral'}>],\n",
       "       [<AxesSubplot:title={'center':'strongly_agree'}>,\n",
       "        <AxesSubplot:title={'center':'strongly_disagree'}>]], dtype=object)"
      ]
     },
     "execution_count": 43,
     "metadata": {},
     "output_type": "execute_result"
    },
    {
     "data": {
      "image/png": "[encoded data removed]",
      "text/plain": [
       "<Figure size 864x720 with 4 Axes>"
      ]
     },
     "metadata": {
      "needs_background": "light"
     },
     "output_type": "display_data"
    }
   ],
   "source": [
    "train_copy['Len_tweet'] = train_copy['message'].apply(len)\n",
    "train_copy.hist(column='Len_tweet', by = 'sentiment', bins = 50, figsize = (12,10), color = \"c\")"
   ]
  },
  {
   "cell_type": "markdown",
   "id": "5de15bb0",
   "metadata": {},
   "source": [
    "Observation:\n",
    "The graphs below show that Length of a tweet is not a good feature to distiguish between the different sentiments.\n"
   ]
  },
  {
   "cell_type": "markdown",
   "id": "5de241c8",
   "metadata": {},
   "source": [
    "Preprocessing"
   ]
  },
  {
   "cell_type": "markdown",
   "id": "6731b45b",
   "metadata": {},
   "source": [
    "The machine learning algorithms cant take in text as data. Instead we need to need to perfom a feature extraction from raw \n",
    "text in order to pass numerical features to the machine learning algorithm. There are two ways to transform text to numbers which are:\n",
    "1. count vectorization\n",
    "2. TF-IDF"
   ]
  },
  {
   "cell_type": "code",
   "execution_count": 44,
   "id": "cc7a8680",
   "metadata": {},
   "outputs": [],
   "source": [
    "from sklearn.feature_extraction.text import CountVectorizer\n",
    "cv = CountVectorizer(stop_words='english')"
   ]
  },
  {
   "cell_type": "code",
   "execution_count": 129,
   "id": "4f1dffae",
   "metadata": {},
   "outputs": [
    {
     "name": "stderr",
     "output_type": "stream",
     "text": [
      "C:\\Users\\sjtsi\\Anaconda3\\lib\\site-packages\\sklearn\\utils\\deprecation.py:87: FutureWarning: Function get_feature_names is deprecated; get_feature_names is deprecated in 1.0 and will be removed in 1.2. Please use get_feature_names_out instead.\n",
      "  warnings.warn(msg, category=FutureWarning)\n",
      "C:\\Users\\sjtsi\\Anaconda3\\lib\\site-packages\\sklearn\\utils\\deprecation.py:87: FutureWarning: Function get_feature_names is deprecated; get_feature_names is deprecated in 1.0 and will be removed in 1.2. Please use get_feature_names_out instead.\n",
      "  warnings.warn(msg, category=FutureWarning)\n"
     ]
    },
    {
     "name": "stdout",
     "output_type": "stream",
     "text": [
      "                 0    1\n",
      "0          climate  809\n",
      "1           change  764\n",
      "2               rt  684\n",
      "3           global  639\n",
      "4          warming  618\n",
      "5            https  561\n",
      "6              man   95\n",
      "7              amp   91\n",
      "8          science   84\n",
      "9  realdonaldtrump   71\n"
     ]
    }
   ],
   "source": [
    "matrix = cv.fit_transform(train_copy[train_copy['sentiment']=='strongly_disagree']['message'])\n",
    "strongly_dis = zip(cv.get_feature_names(), matrix.sum(axis=0).tolist()[0])    \n",
    "strongly_dis_cols= sorted(strongly_dis, key=lambda x: -x[1])[:10]\n",
    "print(pd.DataFrame(strongly_dis_cols))\n",
    "\n",
    "\n",
    "#printinting neutral\n",
    "matrix = cv.fit_transform(train_copy[train_copy['sentiment']=='neutral']['message'])\n",
    "neutral = zip(cv.get_feature_names(), matrix.sum(axis=0).tolist()[0])    \n",
    "trend2= pd.DataFrame(sorted(neutral, key=lambda x: -x[1])[:10])\n",
    "\n",
    "\n",
    "\n",
    "#printing agree\n",
    "matrix = cv.fit_transform(train_copy[train_copy['sentiment']=='agree']['message'])\n",
    "agree_sentiment = zip(cv.get_feature_names(), matrix.sum(axis=0).tolist()[0])    \n",
    "trend3 = pd.DataFrame(sorted(agree_sentiment, key=lambda x: -x[1])[:10])\n",
    "\n",
    "\n",
    "#printing Strongly_agre\n",
    "matrix = cv.fit_transform(train_copy[train_copy['sentiment']=='strongly_agree']['message'])\n",
    "strongly_agree = zip(cv.get_feature_names(), matrix.sum(axis=0).tolist()[0])    \n",
    "trend4= pd.DataFrame(sorted(strongly_agree, key=lambda x: -x[1])[:10])\n"
   ]
  },
  {
   "cell_type": "code",
   "execution_count": 130,
   "id": "0bdc723c",
   "metadata": {},
   "outputs": [
    {
     "data": {
      "text/html": [
       "<div>\n",
       "<style scoped>\n",
       "    .dataframe tbody tr th:only-of-type {\n",
       "        vertical-align: middle;\n",
       "    }\n",
       "\n",
       "    .dataframe tbody tr th {\n",
       "        vertical-align: top;\n",
       "    }\n",
       "\n",
       "    .dataframe thead th {\n",
       "        text-align: right;\n",
       "    }\n",
       "</style>\n",
       "<table border=\"1\" class=\"dataframe\">\n",
       "  <thead>\n",
       "    <tr style=\"text-align: right;\">\n",
       "      <th></th>\n",
       "      <th>0</th>\n",
       "      <th>1</th>\n",
       "    </tr>\n",
       "  </thead>\n",
       "  <tbody>\n",
       "    <tr>\n",
       "      <th>0</th>\n",
       "      <td>https</td>\n",
       "      <td>4155</td>\n",
       "    </tr>\n",
       "    <tr>\n",
       "      <th>1</th>\n",
       "      <td>climate</td>\n",
       "      <td>3358</td>\n",
       "    </tr>\n",
       "    <tr>\n",
       "      <th>2</th>\n",
       "      <td>change</td>\n",
       "      <td>3254</td>\n",
       "    </tr>\n",
       "    <tr>\n",
       "      <th>3</th>\n",
       "      <td>rt</td>\n",
       "      <td>2151</td>\n",
       "    </tr>\n",
       "    <tr>\n",
       "      <th>4</th>\n",
       "      <td>trump</td>\n",
       "      <td>1058</td>\n",
       "    </tr>\n",
       "    <tr>\n",
       "      <th>5</th>\n",
       "      <td>global</td>\n",
       "      <td>512</td>\n",
       "    </tr>\n",
       "    <tr>\n",
       "      <th>6</th>\n",
       "      <td>warming</td>\n",
       "      <td>439</td>\n",
       "    </tr>\n",
       "    <tr>\n",
       "      <th>7</th>\n",
       "      <td>epa</td>\n",
       "      <td>262</td>\n",
       "    </tr>\n",
       "    <tr>\n",
       "      <th>8</th>\n",
       "      <td>says</td>\n",
       "      <td>241</td>\n",
       "    </tr>\n",
       "    <tr>\n",
       "      <th>9</th>\n",
       "      <td>new</td>\n",
       "      <td>191</td>\n",
       "    </tr>\n",
       "  </tbody>\n",
       "</table>\n",
       "</div>"
      ],
      "text/plain": [
       "         0     1\n",
       "0    https  4155\n",
       "1  climate  3358\n",
       "2   change  3254\n",
       "3       rt  2151\n",
       "4    trump  1058\n",
       "5   global   512\n",
       "6  warming   439\n",
       "7      epa   262\n",
       "8     says   241\n",
       "9      new   191"
      ]
     },
     "execution_count": 130,
     "metadata": {},
     "output_type": "execute_result"
    }
   ],
   "source": [
    "trend4"
   ]
  },
  {
   "cell_type": "code",
   "execution_count": 118,
   "id": "d16caab1",
   "metadata": {},
   "outputs": [],
   "source": [
    "#reloading datasets because the copy has changes\n",
    "df = pd.read_csv('train.csv')"
   ]
  },
  {
   "cell_type": "markdown",
   "id": "54428494",
   "metadata": {},
   "source": [
    "building Classification models\n",
    "\n",
    "Random Forests\n",
    "\n",
    "Naïve Bayes\n",
    "\n",
    "K-Nearest Neighbors\n",
    "\n",
    "Logistic Regression\n",
    "\n",
    "Support Vector Machines (Linear SVC)"
   ]
  },
  {
   "cell_type": "markdown",
   "id": "1f3db154",
   "metadata": {},
   "source": [
    "Train Validation\n",
    "We start by splitting the data into features and target variable.\n",
    "Then the data is split into validation using 20% and random_state of 40"
   ]
  },
  {
   "cell_type": "code",
   "execution_count": 119,
   "id": "dbf11233",
   "metadata": {},
   "outputs": [],
   "source": [
    "# Seperate features and tagret variables\n",
    "X = df['message']\n",
    "y = df['sentiment']\n",
    "\n",
    "# Split the train data to create validation dataset\n",
    "X_train, X_test, y_train, y_test = train_test_split(X, y, test_size=0.2, random_state=40)"
   ]
  },
  {
   "cell_type": "code",
   "execution_count": 120,
   "id": "1435f113",
   "metadata": {},
   "outputs": [],
   "source": [
    "#give theory about the models"
   ]
  },
  {
   "cell_type": "markdown",
   "id": "fa881d0f",
   "metadata": {},
   "source": [
    "Pipelines\n",
    "The pipelines consist of 2 steps, vectorization and model fitting"
   ]
  },
  {
   "cell_type": "code",
   "execution_count": 121,
   "id": "c42da885",
   "metadata": {},
   "outputs": [],
   "source": [
    "# Random Forest Classifier\n",
    "random_forest = Pipeline([('tfidf', TfidfVectorizer()),\n",
    "               ('clf', RandomForestClassifier(max_depth=5, \n",
    "                                              n_estimators=100))])\n",
    "\n",
    "# Naïve Bayes:\n",
    "naive_bayes = Pipeline([('tfidf', TfidfVectorizer()),\n",
    "               ('clf', MultinomialNB())])\n",
    "#KNN Classifier\n",
    "knn = Pipeline([('tfidf', TfidfVectorizer()),\n",
    "                ('clf', KNeighborsClassifier(n_neighbors=5, \n",
    "                                             metric='minkowski', \n",
    "                                             p=2))])\n",
    "\n",
    "# Logistic Regression\n",
    "lr = Pipeline([('tfidf',TfidfVectorizer()),\n",
    "               ('clf',LogisticRegression(C=1, \n",
    "                                         class_weight='balanced', \n",
    "                                         max_iter=1000))])\n",
    "# Linear SVC:\n",
    "lsvc = Pipeline([('tfidf', TfidfVectorizer()),\n",
    "                 ('clf', LinearSVC(class_weight='balanced'))])"
   ]
  },
  {
   "cell_type": "markdown",
   "id": "45730689",
   "metadata": {},
   "source": [
    "Fit the model\n",
    "This is done by passing the train data through each custom pipeline."
   ]
  },
  {
   "cell_type": "code",
   "execution_count": 122,
   "id": "d4de5439",
   "metadata": {},
   "outputs": [],
   "source": [
    "#KNN Classifier\n",
    "knn = Pipeline([('tfidf', TfidfVectorizer()),\n",
    "                ('clf', KNeighborsClassifier(n_neighbors=5, \n",
    "                                             metric='minkowski', \n",
    "                                            p=2))])\n",
    "#fitting Knn model\n",
    "knn.fit(X_train, y_train)\n",
    "y_pred_knn = knn.predict(X_test)\n",
    "\n",
    "# Logistic Regression\n",
    "lr = Pipeline([('tfidf',TfidfVectorizer()),\n",
    "               ('clf',LogisticRegression(C=1, \n",
    "                                         class_weight='balanced', \n",
    "                                         max_iter=1000))])\n",
    "#fitting logistic regression model\n",
    "lr.fit(X_train, y_train)\n",
    "y_pred_lr = lr.predict(X_test)\n",
    "\n",
    "# Linear SVC:\n",
    "linear_svc = Pipeline([('tfidf', TfidfVectorizer()),\n",
    "                 ('clf', LinearSVC(class_weight='balanced'))])\n",
    "\n",
    "#fitting SVC model\n",
    "linear_svc.fit(X_train, y_train)\n",
    "y_pred_lsvc = linear_svc.predict(X_test)\n",
    "\n",
    "# Random Forest Classifier\n",
    "rf = Pipeline([('tfidf', TfidfVectorizer()),\n",
    "               ('clf', RandomForestClassifier(max_depth=5, \n",
    "                                             n_estimators=100))])\n",
    "##fitting Random forest model\n",
    "rf.fit(X_train, y_train)\n",
    "y_pred_rf = rf.predict(X_test)\n",
    "\n",
    "\n",
    "# Naïve Bayes:\n",
    "nb = Pipeline([('tfidf', TfidfVectorizer()),\n",
    "               ('clf', MultinomialNB())])\n",
    "                       \n",
    "#fitting Naïve Bayes model\n",
    "nb.fit(X_train, y_train)\n",
    "y_pred_nb = nb.predict(X_test)\n",
    "\n"
   ]
  },
  {
   "cell_type": "code",
   "execution_count": null,
   "id": "c7c281f5",
   "metadata": {},
   "outputs": [],
   "source": []
  },
  {
   "cell_type": "markdown",
   "id": "48a782ae",
   "metadata": {},
   "source": [
    "Model evaluation\n",
    "We will be looking at the following to determine and visualize these metrics:\n",
    "\n",
    "Classification report\n",
    "Confusion matrix\n",
    "The best model will be selected based on the weighted F1 score."
   ]
  },
  {
   "cell_type": "code",
   "execution_count": 123,
   "id": "763a2c56",
   "metadata": {},
   "outputs": [
    {
     "name": "stderr",
     "output_type": "stream",
     "text": [
      "C:\\Users\\sjtsi\\Anaconda3\\lib\\site-packages\\sklearn\\metrics\\_classification.py:1308: UndefinedMetricWarning: Precision and F-score are ill-defined and being set to 0.0 in labels with no predicted samples. Use `zero_division` parameter to control this behavior.\n",
      "  _warn_prf(average, modifier, msg_start, len(result))\n",
      "C:\\Users\\sjtsi\\Anaconda3\\lib\\site-packages\\sklearn\\metrics\\_classification.py:1308: UndefinedMetricWarning: Precision and F-score are ill-defined and being set to 0.0 in labels with no predicted samples. Use `zero_division` parameter to control this behavior.\n",
      "  _warn_prf(average, modifier, msg_start, len(result))\n",
      "C:\\Users\\sjtsi\\Anaconda3\\lib\\site-packages\\sklearn\\metrics\\_classification.py:1308: UndefinedMetricWarning: Precision and F-score are ill-defined and being set to 0.0 in labels with no predicted samples. Use `zero_division` parameter to control this behavior.\n",
      "  _warn_prf(average, modifier, msg_start, len(result))\n"
     ]
    },
    {
     "name": "stdout",
     "output_type": "stream",
     "text": [
      "              precision    recall  f1-score   support\n",
      "\n",
      "          -1       0.00      0.00      0.00       251\n",
      "           0       0.00      0.00      0.00       480\n",
      "           1       0.54      1.00      0.70      1707\n",
      "           2       0.00      0.00      0.00       726\n",
      "\n",
      "    accuracy                           0.54      3164\n",
      "   macro avg       0.13      0.25      0.18      3164\n",
      "weighted avg       0.29      0.54      0.38      3164\n",
      "\n"
     ]
    },
    {
     "data": {
      "image/png": "[encoded data removed]",
      "text/plain": [
       "<Figure size 432x288 with 2 Axes>"
      ]
     },
     "metadata": {
      "needs_background": "light"
     },
     "output_type": "display_data"
    }
   ],
   "source": [
    "#Generate a classification Report for the random forest model\n",
    "print(metrics.classification_report(y_test, y_pred_rf))\n",
    "\n",
    "# Generate a normalized confusion matrix\n",
    "cm = confusion_matrix(y_test, y_pred_rf)\n",
    "cm_norm = cm / cm.sum(axis=1).reshape(-1,1)\n",
    "\n",
    "# Display the confusion matrix as a heatmap\n",
    "sns.heatmap(cm_norm, \n",
    "            cmap=\"BuGn\", \n",
    "            xticklabels=rf.classes_, \n",
    "            yticklabels=rf.classes_, \n",
    "            vmin=0., \n",
    "            vmax=1., \n",
    "            annot=True, annot_kws={'size':10})\n",
    "\n",
    "# Adding headings and lables\n",
    "plt.title('Random forest classification')\n",
    "plt.ylabel('True label')\n",
    "plt.xlabel('Predicted label')\n",
    "plt.show()"
   ]
  },
  {
   "cell_type": "markdown",
   "id": "95058a05",
   "metadata": {},
   "source": [
    "Observations and meaning"
   ]
  },
  {
   "cell_type": "code",
   "execution_count": 124,
   "id": "ee3abf88",
   "metadata": {},
   "outputs": [
    {
     "data": {
      "image/png": "[encoded data removed]",
      "text/plain": [
       "<Figure size 432x288 with 2 Axes>"
      ]
     },
     "metadata": {
      "needs_background": "light"
     },
     "output_type": "display_data"
    }
   ],
   "source": [
    "# Generate a normalized confusion matrix\n",
    "cm = confusion_matrix(y_test, y_pred_nb)\n",
    "cm_norm = cm / cm.sum(axis=1).reshape(-1,1)\n",
    "\n",
    "# Display the confusion matrix as a heatmap\n",
    "sns.heatmap(cm_norm, \n",
    "            cmap=\"BuGn\", \n",
    "            xticklabels=nb.classes_, \n",
    "            yticklabels=nb.classes_, \n",
    "            vmin=0., \n",
    "            vmax=1., \n",
    "            annot=True, \n",
    "            annot_kws={'size':10})\n",
    "\n",
    "# Adding headings and lables\n",
    "plt.title('Naive Bayes classification')\n",
    "plt.ylabel('True label')\n",
    "plt.xlabel('Predicted label')\n",
    "plt.show()"
   ]
  },
  {
   "cell_type": "markdown",
   "id": "e0db1061",
   "metadata": {},
   "source": [
    "Observations and meaning"
   ]
  },
  {
   "cell_type": "code",
   "execution_count": 125,
   "id": "0945974d",
   "metadata": {},
   "outputs": [
    {
     "name": "stdout",
     "output_type": "stream",
     "text": [
      "              precision    recall  f1-score   support\n",
      "\n",
      "          -1       0.56      0.41      0.47       251\n",
      "           0       0.51      0.39      0.44       480\n",
      "           1       0.73      0.81      0.77      1707\n",
      "           2       0.69      0.67      0.68       726\n",
      "\n",
      "    accuracy                           0.68      3164\n",
      "   macro avg       0.62      0.57      0.59      3164\n",
      "weighted avg       0.67      0.68      0.68      3164\n",
      "\n"
     ]
    },
    {
     "data": {
      "text/plain": [
       "Text(33.0, 0.5, 'True label')"
      ]
     },
     "execution_count": 125,
     "metadata": {},
     "output_type": "execute_result"
    },
    {
     "data": {
      "image/png": "[encoded data removed]",
      "text/plain": [
       "<Figure size 432x288 with 2 Axes>"
      ]
     },
     "metadata": {
      "needs_background": "light"
     },
     "output_type": "display_data"
    }
   ],
   "source": [
    "# Generate a classification Report for the K-nearest neighbors model\n",
    "print(metrics.classification_report(y_test, y_pred_knn))\n",
    "\n",
    "# Generate a normalized confusion matrix\n",
    "cm = confusion_matrix(y_test, y_pred_knn)\n",
    "cm_norm = cm / cm.sum(axis=1).reshape(-1,1)\n",
    "\n",
    "# Display the confusion matrix as a heatmap\n",
    "sns.heatmap(cm_norm, \n",
    "            cmap=\"BuGn\", \n",
    "            xticklabels=knn.classes_, \n",
    "            yticklabels=knn.classes_, \n",
    "            vmin=0., \n",
    "            vmax=1., \n",
    "            annot=True, \n",
    "            annot_kws={'size':10})\n",
    "\n",
    "# Adding headings and lables\n",
    "plt.title('K - nearest neighbors classification')\n",
    "plt.ylabel('True label')"
   ]
  },
  {
   "cell_type": "code",
   "execution_count": 126,
   "id": "62be9f80",
   "metadata": {},
   "outputs": [
    {
     "name": "stdout",
     "output_type": "stream",
     "text": [
      "              precision    recall  f1-score   support\n",
      "\n",
      "          -1       0.52      0.59      0.55       251\n",
      "           0       0.55      0.57      0.56       480\n",
      "           1       0.86      0.71      0.78      1707\n",
      "           2       0.66      0.88      0.76       726\n",
      "\n",
      "    accuracy                           0.72      3164\n",
      "   macro avg       0.65      0.69      0.66      3164\n",
      "weighted avg       0.74      0.72      0.72      3164\n",
      "\n"
     ]
    },
    {
     "data": {
      "image/png": "[encoded data removed]",
      "text/plain": [
       "<Figure size 432x288 with 2 Axes>"
      ]
     },
     "metadata": {
      "needs_background": "light"
     },
     "output_type": "display_data"
    }
   ],
   "source": [
    "# Generate a classification Report for the model\n",
    "print(metrics.classification_report(y_test, y_pred_lr))\n",
    "\n",
    "cm = confusion_matrix(y_test, y_pred_lr)\n",
    "cm_norm = cm / cm.sum(axis=1).reshape(-1,1)\n",
    "\n",
    "sns.heatmap(cm_norm, \n",
    "            cmap=\"YlGnBu\", \n",
    "            xticklabels=lr.classes_, \n",
    "            yticklabels=lr.classes_, \n",
    "            vmin=0., \n",
    "            vmax=1., \n",
    "            annot=True, \n",
    "            annot_kws={'size':10})\n",
    "\n",
    "# Adding headings and lables\n",
    "plt.title('Logistic regression classification')\n",
    "plt.ylabel('True label')\n",
    "plt.xlabel('Predicted label')\n",
    "plt.show()"
   ]
  },
  {
   "cell_type": "markdown",
   "id": "9d3307c7",
   "metadata": {},
   "source": [
    "observations and meaning"
   ]
  },
  {
   "cell_type": "code",
   "execution_count": 116,
   "id": "a303db35",
   "metadata": {},
   "outputs": [
    {
     "name": "stdout",
     "output_type": "stream",
     "text": [
      "                   precision    recall  f1-score   support\n",
      "\n",
      "            agree       0.82      0.82      0.82      1707\n",
      "          neutral       0.62      0.50      0.55       480\n",
      "   strongly_agree       0.72      0.86      0.79       726\n",
      "strongly_disagree       0.61      0.50      0.55       251\n",
      "\n",
      "         accuracy                           0.76      3164\n",
      "        macro avg       0.69      0.67      0.68      3164\n",
      "     weighted avg       0.75      0.76      0.75      3164\n",
      "\n"
     ]
    },
    {
     "data": {
      "image/png": "[encoded data removed]",
      "text/plain": [
       "<Figure size 432x288 with 2 Axes>"
      ]
     },
     "metadata": {
      "needs_background": "light"
     },
     "output_type": "display_data"
    }
   ],
   "source": [
    "#Generate a classification Report for the linear SVC model\n",
    "print(metrics.classification_report(y_test, y_pred_lsvc))\n",
    "\n",
    "# Generate a normalized confusion matrix\n",
    "cm = confusion_matrix(y_test, y_pred_lsvc)\n",
    "cm_norm = cm / cm.sum(axis=1).reshape(-1,1)\n",
    "\n",
    "# Display the confusion matrix as a heatmap\n",
    "sns.heatmap(cm_norm, \n",
    "            cmap=\"BuGn\", \n",
    "            xticklabels=linear_svc.classes_, \n",
    "            yticklabels=linear_svc.classes_, \n",
    "            vmin=0., \n",
    "            vmax=1., \n",
    "            annot=True, \n",
    "            annot_kws={'size':10})\n",
    "# Adding headings and lables\n",
    "plt.title('Linear SVC classification')\n",
    "plt.ylabel('True label')\n",
    "plt.xlabel('Predicted label')\n",
    "plt.show()"
   ]
  },
  {
   "cell_type": "markdown",
   "id": "3ca39b29",
   "metadata": {},
   "source": [
    "Observations and meaning"
   ]
  },
  {
   "cell_type": "code",
   "execution_count": null,
   "id": "772dda65",
   "metadata": {},
   "outputs": [],
   "source": [
    "Choosing the best model"
   ]
  },
  {
   "cell_type": "markdown",
   "id": "33bfb1fe",
   "metadata": {},
   "source": [
    "submision of chosen model to kaggle"
   ]
  },
  {
   "cell_type": "code",
   "execution_count": null,
   "id": "df2c1f19",
   "metadata": {},
   "outputs": [],
   "source": []
  },
  {
   "cell_type": "code",
   "execution_count": 127,
   "id": "fcc7f21e",
   "metadata": {},
   "outputs": [
    {
     "data": {
      "text/html": [
       "<div>\n",
       "<style scoped>\n",
       "    .dataframe tbody tr th:only-of-type {\n",
       "        vertical-align: middle;\n",
       "    }\n",
       "\n",
       "    .dataframe tbody tr th {\n",
       "        vertical-align: top;\n",
       "    }\n",
       "\n",
       "    .dataframe thead th {\n",
       "        text-align: right;\n",
       "    }\n",
       "</style>\n",
       "<table border=\"1\" class=\"dataframe\">\n",
       "  <thead>\n",
       "    <tr style=\"text-align: right;\">\n",
       "      <th></th>\n",
       "      <th>tweetid</th>\n",
       "      <th>sentiment</th>\n",
       "    </tr>\n",
       "  </thead>\n",
       "  <tbody>\n",
       "    <tr>\n",
       "      <th>0</th>\n",
       "      <td>169760</td>\n",
       "      <td>1</td>\n",
       "    </tr>\n",
       "    <tr>\n",
       "      <th>1</th>\n",
       "      <td>35326</td>\n",
       "      <td>1</td>\n",
       "    </tr>\n",
       "    <tr>\n",
       "      <th>2</th>\n",
       "      <td>224985</td>\n",
       "      <td>1</td>\n",
       "    </tr>\n",
       "    <tr>\n",
       "      <th>3</th>\n",
       "      <td>476263</td>\n",
       "      <td>1</td>\n",
       "    </tr>\n",
       "    <tr>\n",
       "      <th>4</th>\n",
       "      <td>872928</td>\n",
       "      <td>0</td>\n",
       "    </tr>\n",
       "    <tr>\n",
       "      <th>...</th>\n",
       "      <td>...</td>\n",
       "      <td>...</td>\n",
       "    </tr>\n",
       "    <tr>\n",
       "      <th>10541</th>\n",
       "      <td>895714</td>\n",
       "      <td>1</td>\n",
       "    </tr>\n",
       "    <tr>\n",
       "      <th>10542</th>\n",
       "      <td>875167</td>\n",
       "      <td>1</td>\n",
       "    </tr>\n",
       "    <tr>\n",
       "      <th>10543</th>\n",
       "      <td>78329</td>\n",
       "      <td>2</td>\n",
       "    </tr>\n",
       "    <tr>\n",
       "      <th>10544</th>\n",
       "      <td>867455</td>\n",
       "      <td>0</td>\n",
       "    </tr>\n",
       "    <tr>\n",
       "      <th>10545</th>\n",
       "      <td>470892</td>\n",
       "      <td>1</td>\n",
       "    </tr>\n",
       "  </tbody>\n",
       "</table>\n",
       "<p>10546 rows × 2 columns</p>\n",
       "</div>"
      ],
      "text/plain": [
       "       tweetid  sentiment\n",
       "0       169760          1\n",
       "1        35326          1\n",
       "2       224985          1\n",
       "3       476263          1\n",
       "4       872928          0\n",
       "...        ...        ...\n",
       "10541   895714          1\n",
       "10542   875167          1\n",
       "10543    78329          2\n",
       "10544   867455          0\n",
       "10545   470892          1\n",
       "\n",
       "[10546 rows x 2 columns]"
      ]
     },
     "execution_count": 127,
     "metadata": {},
     "output_type": "execute_result"
    }
   ],
   "source": [
    "y_test = linear_svc.predict(test['message'])\n",
    "output = pd.DataFrame({'tweetid': test.tweetid,\n",
    "                       'sentiment': y_test})\n",
    "output.to_csv('submission4.csv', index=False)\n",
    "output"
   ]
  },
  {
   "cell_type": "markdown",
   "id": "aa66f5f9",
   "metadata": {},
   "source": [
    "Hyperparameter tuning"
   ]
  },
  {
   "cell_type": "markdown",
   "id": "0c9b6705",
   "metadata": {},
   "source": [
    "Submission to Kaggle after tuning"
   ]
  },
  {
   "cell_type": "markdown",
   "id": "1310a60b",
   "metadata": {},
   "source": [
    "Conclusion\n",
    "\n",
    "We have set p"
   ]
  },
  {
   "cell_type": "code",
   "execution_count": 131,
   "id": "067945b3",
   "metadata": {},
   "outputs": [
    {
     "name": "stdout",
     "output_type": "stream",
     "text": [
      "C:\\Users\\sjtsi\\Documents\\Explore\\Advanced Classification\n"
     ]
    }
   ],
   "source": [
    "cd C:\\Users\\sjtsi\\Documents\\Explore\\Advanced Classification"
   ]
  },
  {
   "cell_type": "code",
   "execution_count": 132,
   "id": "95b8c293",
   "metadata": {},
   "outputs": [
    {
     "data": {
      "text/plain": [
       "'C:\\\\Users\\\\sjtsi\\\\Documents\\\\Explore\\\\Advanced Classification'"
      ]
     },
     "execution_count": 132,
     "metadata": {},
     "output_type": "execute_result"
    }
   ],
   "source": []
  },
  {
   "cell_type": "code",
   "execution_count": null,
   "id": "25f8ccf2",
   "metadata": {},
   "outputs": [],
   "source": []
  }
 ],
 "metadata": {
  "kernelspec": {
   "display_name": "Python 3",
   "language": "python",
   "name": "python3"
  },
  "language_info": {
   "codemirror_mode": {
    "name": "ipython",
    "version": 3
   },
   "file_extension": ".py",
   "mimetype": "text/x-python",
   "name": "python",
   "nbconvert_exporter": "python",
   "pygments_lexer": "ipython3",
   "version": "3.8.8"
  }
 },
 "nbformat": 4,
 "nbformat_minor": 5
}
