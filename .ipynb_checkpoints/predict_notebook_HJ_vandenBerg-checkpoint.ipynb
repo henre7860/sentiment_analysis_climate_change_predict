{
 "cells": [
  {
   "cell_type": "markdown",
   "id": "9253fac4",
   "metadata": {},
   "source": [
    "## What is Natural Language Processing?\n",
    "\n",
    "Natural language is the language you and I talk in. It could be Hindi, English, Spanish, anything. And we talk about natural language processing, we basically refer to making computers able to process this language, and more importantly understand it and take actions based on it. Now this language can be text based or audio based. Your Google Voice assistant, Siri and even google translator are great examples of this.\n"
   ]
  },
  {
   "cell_type": "markdown",
   "id": "a16218ca",
   "metadata": {},
   "source": [
    "## So what are we doing in the Twitter Sentiment Analysis Project?\n",
    "\n",
    "I am going to build a machine learning model that is able to analyze loads of twitter tweets, and be able to judge the sentiments behind the tweets. We are gonna be analyzing tweets made about climate change, and judging if they are of positive, negative or neutral sentiments. These types of models are massively used by Twitter and Facebook, to filter out to say hate speeches, or other unwanted comments on their platforms."
   ]
  },
  {
   "cell_type": "code",
   "execution_count": 117,
   "id": "ef4ebe5c",
   "metadata": {},
   "outputs": [
    {
     "name": "stderr",
     "output_type": "stream",
     "text": [
      "[nltk_data] Downloading package wordnet to\n",
      "[nltk_data]     C:\\Users\\henre\\AppData\\Roaming\\nltk_data...\n",
      "[nltk_data]   Unzipping corpora\\wordnet.zip.\n"
     ]
    }
   ],
   "source": [
    "# Import packages\n",
    "\n",
    "# Database manipulation package\n",
    "import pandas as pd\n",
    "import numpy as np\n",
    "# Visualization\n",
    "import matplotlib.pyplot as plt\n",
    "%matplotlib inline\n",
    "\n",
    "# Natural language Toolkit packages.\n",
    "# Necessary libraries and modules that are \n",
    "# going to help us do the data processing \n",
    "# from the nltk library.\n",
    "import nltk\n",
    "\n",
    "#nltk.download(['punkt','stopwords'])\n",
    "from nltk.corpus import stopwords\n",
    "from nltk.stem import SnowballStemmer, PorterStemmer, LancasterStemmer\n",
    "from nltk.stem import WordNetLemmatizer\n",
    "nltk.download('wordnet')\n",
    "import string\n",
    "\n",
    "# Regular expression\n",
    "import re\n",
    "\n",
    "# to make bag of words\n",
    "from sklearn.feature_extraction.text import CountVectorizer\n",
    "from sklearn.feature_extraction.text import TfidfVectorizer\n",
    "\n",
    "# Packages to create models\n",
    "from sklearn.naive_bayes import MultinomialNB\n",
    "from sklearn.linear_model import LogisticRegression, LinearRegression\n",
    "from sklearn.svm import SVC  # Model takes to long to train\n",
    "from sklearn.tree import DecisionTreeRegressor\n",
    "from sklearn.ensemble import RandomForestClassifier\n",
    "\n",
    "from sklearn.preprocessing import StandardScaler\n",
    "\n",
    "from sklearn.model_selection import train_test_split\n",
    "from sklearn.metrics import classification_report, f1_score\n",
    "\n",
    "import warnings\n",
    "warnings.filterwarnings('ignore')"
   ]
  },
  {
   "cell_type": "code",
   "execution_count": 14,
   "id": "57dc387d",
   "metadata": {},
   "outputs": [],
   "source": [
    "# Import dataset\n",
    "\n",
    "tweets = pd.read_csv(\"train.csv\")"
   ]
  },
  {
   "cell_type": "code",
   "execution_count": 15,
   "id": "d844adfb",
   "metadata": {},
   "outputs": [
    {
     "data": {
      "text/html": [
       "<div>\n",
       "<style scoped>\n",
       "    .dataframe tbody tr th:only-of-type {\n",
       "        vertical-align: middle;\n",
       "    }\n",
       "\n",
       "    .dataframe tbody tr th {\n",
       "        vertical-align: top;\n",
       "    }\n",
       "\n",
       "    .dataframe thead th {\n",
       "        text-align: right;\n",
       "    }\n",
       "</style>\n",
       "<table border=\"1\" class=\"dataframe\">\n",
       "  <thead>\n",
       "    <tr style=\"text-align: right;\">\n",
       "      <th></th>\n",
       "      <th>sentiment</th>\n",
       "      <th>message</th>\n",
       "      <th>tweetid</th>\n",
       "    </tr>\n",
       "  </thead>\n",
       "  <tbody>\n",
       "    <tr>\n",
       "      <th>0</th>\n",
       "      <td>1</td>\n",
       "      <td>PolySciMajor EPA chief doesn't think carbon di...</td>\n",
       "      <td>625221</td>\n",
       "    </tr>\n",
       "    <tr>\n",
       "      <th>1</th>\n",
       "      <td>1</td>\n",
       "      <td>It's not like we lack evidence of anthropogeni...</td>\n",
       "      <td>126103</td>\n",
       "    </tr>\n",
       "    <tr>\n",
       "      <th>2</th>\n",
       "      <td>2</td>\n",
       "      <td>RT @RawStory: Researchers say we have three ye...</td>\n",
       "      <td>698562</td>\n",
       "    </tr>\n",
       "    <tr>\n",
       "      <th>3</th>\n",
       "      <td>1</td>\n",
       "      <td>#TodayinMaker# WIRED : 2016 was a pivotal year...</td>\n",
       "      <td>573736</td>\n",
       "    </tr>\n",
       "    <tr>\n",
       "      <th>4</th>\n",
       "      <td>1</td>\n",
       "      <td>RT @SoyNovioDeTodas: It's 2016, and a racist, ...</td>\n",
       "      <td>466954</td>\n",
       "    </tr>\n",
       "  </tbody>\n",
       "</table>\n",
       "</div>"
      ],
      "text/plain": [
       "   sentiment                                            message  tweetid\n",
       "0          1  PolySciMajor EPA chief doesn't think carbon di...   625221\n",
       "1          1  It's not like we lack evidence of anthropogeni...   126103\n",
       "2          2  RT @RawStory: Researchers say we have three ye...   698562\n",
       "3          1  #TodayinMaker# WIRED : 2016 was a pivotal year...   573736\n",
       "4          1  RT @SoyNovioDeTodas: It's 2016, and a racist, ...   466954"
      ]
     },
     "execution_count": 15,
     "metadata": {},
     "output_type": "execute_result"
    }
   ],
   "source": [
    "tweets.head()"
   ]
  },
  {
   "cell_type": "code",
   "execution_count": 16,
   "id": "7dd3ceaa",
   "metadata": {},
   "outputs": [
    {
     "data": {
      "text/plain": [
       "array([ 1,  2,  0, -1], dtype=int64)"
      ]
     },
     "execution_count": 16,
     "metadata": {},
     "output_type": "execute_result"
    }
   ],
   "source": [
    "tweets['sentiment'].unique()"
   ]
  },
  {
   "cell_type": "markdown",
   "id": "de675ad7",
   "metadata": {},
   "source": [
    "Sentiment Description:\n",
    "* 2 News: the tweet links to factual news about climate change\n",
    "\n",
    "* 1 Pro: the tweet supports the belief of man-made climate change\n",
    "\n",
    "* 0 Neutral: the tweet neither supports nor refutes the belief of man-made climate change\n",
    "\n",
    "* -1 Anti: the tweet does not believe in man-made climate change"
   ]
  },
  {
   "cell_type": "code",
   "execution_count": 5,
   "id": "8eac52b6",
   "metadata": {},
   "outputs": [
    {
     "data": {
      "text/plain": [
       "(15819, 3)"
      ]
     },
     "execution_count": 5,
     "metadata": {},
     "output_type": "execute_result"
    }
   ],
   "source": [
    "tweets.shape"
   ]
  },
  {
   "cell_type": "markdown",
   "id": "a94ff6dd",
   "metadata": {},
   "source": [
    " The shape of the data, when you print it, will be shown as (15819, 3). Basically means that there are 15819 tweets in the dataset, with 3 parameters associated with each tweet."
   ]
  },
  {
   "cell_type": "markdown",
   "id": "940f6ffa",
   "metadata": {},
   "source": [
    "## Data Analysis\n",
    "\n",
    "We will explore the dataset to see if we can find any trends.\n",
    "First look at the distribution of sentiments across all tweets with a pi chart.."
   ]
  },
  {
   "cell_type": "code",
   "execution_count": 20,
   "id": "03bf4401",
   "metadata": {
    "scrolled": false
   },
   "outputs": [
    {
     "data": {
      "text/plain": [
       "<AxesSubplot:ylabel='sentiment'>"
      ]
     },
     "execution_count": 20,
     "metadata": {},
     "output_type": "execute_result"
    },
    {
     "data": {
      "image/png": "[encoded data removed]",
      "text/plain": [
       "<Figure size 576x432 with 1 Axes>"
      ]
     },
     "metadata": {},
     "output_type": "display_data"
    }
   ],
   "source": [
    "tweets['sentiment'].value_counts().plot(kind='pie', autopct='%1.0f%%')"
   ]
  },
  {
   "cell_type": "markdown",
   "id": "714c1f2e",
   "metadata": {},
   "source": [
    "From the output pie chart we can see 1: Pro climate change, holds the majority of tweets"
   ]
  },
  {
   "cell_type": "code",
   "execution_count": null,
   "id": "28236758",
   "metadata": {},
   "outputs": [],
   "source": []
  },
  {
   "cell_type": "code",
   "execution_count": null,
   "id": "fdeb9f67",
   "metadata": {},
   "outputs": [],
   "source": []
  },
  {
   "cell_type": "markdown",
   "id": "d706d9f2",
   "metadata": {},
   "source": [
    "## Data Pre-Processing is KEY\n",
    "\n",
    "\n",
    "In NLP projects, the most important part is preprocessing the data, so that it is ready for a model to use. That’s what we are doing now.\n",
    "Since there is a unnecessary parameters in the dataset, lets extract and store the input and the output, which is the 'message' and 'sentiment'  column using the following lines:"
   ]
  },
  {
   "cell_type": "code",
   "execution_count": 21,
   "id": "2e6b98e0",
   "metadata": {},
   "outputs": [],
   "source": [
    "X = tweets['message']\n",
    "y = tweets['sentiment']"
   ]
  },
  {
   "cell_type": "markdown",
   "id": "0c3fd4c4",
   "metadata": {},
   "source": [
    "## Why and What at all do we need to do in Data Processing?\n",
    "\n",
    "Remember your input is just a bunch of words for now. Machine learning models only understand and work on numbers. So we have to convert all the text into numbers.\n",
    "\n",
    "To remove unnecessary words, I am going to use the following techniques:\n",
    "\n",
    "1. Removing Stop Words: Basically words like this, an, a, the, etc that do not affect the meaning of the tweet\n",
    "2. Removing Punctuation: (‘,.*!’) and other punctuation marks that are not really needed by the model\n",
    "3. Stemming: Basically reducing words like ‘jumping, jumped, jump’ into its root word(also called stem), which is jump in this case. Since all variations of the root word convey the same meaning, we don’t need each of the word to be converted into different numbers."
   ]
  },
  {
   "cell_type": "markdown",
   "id": "7f9e0d0e",
   "metadata": {},
   "source": [
    "### Stemming"
   ]
  },
  {
   "cell_type": "code",
   "execution_count": 99,
   "id": "69d8df0e",
   "metadata": {},
   "outputs": [],
   "source": [
    "# We simply store the english stop words,the stemmer function \n",
    "# in different variables in the following lines.\n",
    "\n",
    "stop_words = stopwords.words('english')\n",
    "punct = string.punctuation\n",
    "stemmer1 = PorterStemmer()\n",
    "stemmer2 = SnowballStemmer('english')\n"
   ]
  },
  {
   "cell_type": "markdown",
   "id": "08989d65",
   "metadata": {},
   "source": [
    "Now, for the actual data processing, we use the following lines of code."
   ]
  },
  {
   "cell_type": "markdown",
   "id": "838d7cba",
   "metadata": {},
   "source": [
    "#### Porter Stemmer"
   ]
  },
  {
   "cell_type": "code",
   "execution_count": 100,
   "id": "ad8dde67",
   "metadata": {},
   "outputs": [],
   "source": [
    "cleaned_data_1=[]\n",
    "\n",
    "for i in range(len(X)):\n",
    "    tweet=re.sub('[^a-zA-Z]',' ',X.iloc[i])\n",
    "    tweet=tweet.lower().split()\n",
    "    tweet=[stemmer1.stem(word) for word in tweet if (word not in stop_words) and (word not in punct)]\n",
    "    tweet=' '.join(tweet)\n",
    "    cleaned_data_1.append(tweet)"
   ]
  },
  {
   "cell_type": "markdown",
   "id": "4190190e",
   "metadata": {},
   "source": [
    "Firstly, we create an empty list called cleaned_data, where will be storing our text data after getting rid of all unnecessary words.\n",
    "\n",
    "We import a library called re(regular expressions), that is gonna help us remove a lot of unnecessary stuff.\n",
    "\n",
    "To begin with, we run a for loop to iterate through each and every tweet in the dataset, at a time. Using re.sub we can substitute and replace things in a sentence. So we are basically taking one tweet at a time, and inside it whatever is not a letter(belonging to a-z or A-Z), will be replaced by an empty space. It will automatically filter out punctuation marks and other non-letters.\n",
    "\n",
    "In the next line, we convert all words into lower cases and split them into a list.\n",
    "\n",
    "Next, we iterate through each word in a tweet, and if that word is not a stop word, we stem that using stemmer.stem(word).\n",
    "\n",
    "After that we join all the words using ‘’.join(tweet), to get a single sentence instead of separated words. And then we simply append that into the cleaned data list that we had created. If you print the cleaned list it should look something like this.\n",
    "\n"
   ]
  },
  {
   "cell_type": "code",
   "execution_count": 35,
   "id": "fda541ce",
   "metadata": {},
   "outputs": [
    {
     "data": {
      "text/plain": [
       "['polyscimajor epa chief think carbon dioxid main caus global warm wait http co yelvcefxkc via mashabl',\n",
       " 'like lack evid anthropogen global warm',\n",
       " 'rt rawstori research say three year act climat chang late http co wdt kdur f http co z anpt',\n",
       " 'todayinmak wire pivot year war climat chang http co wotxtlcd',\n",
       " 'rt soynoviodetoda racist sexist climat chang deni bigot lead poll electionnight',\n",
       " 'worth read whether believ climat chang http co gglzvnyjun http co afe mah j',\n",
       " 'rt thenat mike penc believ global warm smoke caus lung cancer http co gvwyaauu r',\n",
       " 'rt makeandmendlif six big thing today fight climat chang climat activist http co tymlu dbnm h',\n",
       " 'aceofspadeshq yo nephew inconsol want die old age like perish fieri hellscap climat chang',\n",
       " 'rt paigetweedi offens like believ global warm']"
      ]
     },
     "execution_count": 35,
     "metadata": {},
     "output_type": "execute_result"
    }
   ],
   "source": [
    "cleaned_data_1[:10]"
   ]
  },
  {
   "cell_type": "markdown",
   "id": "caaef51f",
   "metadata": {},
   "source": [
    "In this, climat and chang is the subject for which the tweets are made. We’ll also remove them later, as they do not play a role in the sentiment of the tweet. Also you’ll notice weird words like ‘tsqzmjwlh’ which do not make sense. That is because people in tweets will often use incorrect spellings of words and also the stemmer function sometimes produces words that are not real English words, but that is something that we will just roll with for now."
   ]
  },
  {
   "cell_type": "markdown",
   "id": "826d6400",
   "metadata": {},
   "source": [
    "#### SnowballStemmer"
   ]
  },
  {
   "cell_type": "code",
   "execution_count": 102,
   "id": "f124d9a0",
   "metadata": {},
   "outputs": [],
   "source": [
    "cleaned_data_2=[]\n",
    "\n",
    "for i in range(len(X)):\n",
    "    tweet=re.sub('[^a-zA-Z]',' ',X.iloc[i])\n",
    "    tweet=tweet.lower().split()\n",
    "    tweet=[stemmer2.stem(word) for word in tweet if (word not in stop_words) and (word not in punct)]\n",
    "    tweet=' '.join(tweet)\n",
    "    cleaned_data_2.append(tweet)\n",
    "    \n"
   ]
  },
  {
   "cell_type": "markdown",
   "id": "60fad290",
   "metadata": {},
   "source": [
    "### Lemmatization\n",
    "\n",
    "A very similar operation to stemming is called lemmatization. Lemmatizing is the process of grouping words of similar meaning together. So, your root stem, meaning the word you end up with, is not something you can just look up in a dictionary, but you can look up a lemma.\n"
   ]
  },
  {
   "cell_type": "code",
   "execution_count": 118,
   "id": "69c13eea",
   "metadata": {},
   "outputs": [],
   "source": [
    "lemmatizer = WordNetLemmatizer()"
   ]
  },
  {
   "cell_type": "code",
   "execution_count": 121,
   "id": "f0445841",
   "metadata": {},
   "outputs": [],
   "source": [
    "cleaned_data_3 = []\n",
    "\n",
    "\n",
    "for i in range(len(X)):\n",
    "    tweet=re.sub('[^a-zA-Z]',' ',X.iloc[i])\n",
    "    tweet=tweet.lower().split()\n",
    "    tweet=[lemmatizer.lemmatize(word) for word in tweet if (word not in stop_words) and (word not in punct)]\n",
    "    tweet=' '.join(tweet)\n",
    "    cleaned_data_3.append(tweet)"
   ]
  },
  {
   "cell_type": "markdown",
   "id": "da3bc1b9",
   "metadata": {},
   "source": [
    "## Text to Numeric\n",
    "\n",
    "Algoritms use numeric data to train models. Thus to make algorithms works with text, we have to convert text to numbers. We will use the Bag of Words methods to do this.\n",
    "\n",
    "### Bag of Words\n",
    "Now that input is clean and ready, we convert it into numbers using something called as the ‘Bag of Words’ approach. Basically we create a matrix table, where each row represents a sentence and each word will have separate column for itself that represents it’s frequency.\n",
    "\n",
    "One con about this method that you might not notice is that the order of the sentence is lost. There are other approaches to counter this, but we are just going to stick with this method.\n",
    "\n"
   ]
  },
  {
   "cell_type": "code",
   "execution_count": 122,
   "id": "b17568c2",
   "metadata": {},
   "outputs": [
    {
     "name": "stdout",
     "output_type": "stream",
     "text": [
      "(15819, 2500)\n",
      "(15819, 2500)\n",
      "(15819, 2500)\n"
     ]
    }
   ],
   "source": [
    "count_vector = CountVectorizer(max_features = 2500)\n",
    "X_fin_1 = count_vector.fit_transform(cleaned_data_1).toarray()\n",
    "print(X_fin_1.shape)\n",
    "\n",
    "\n",
    "X_fin_2 = count_vector.fit_transform(cleaned_data_2).toarray()\n",
    "print(X_fin_2.shape)\n",
    "\n",
    "X_fin_3 = count_vector.fit_transform(cleaned_data_3).toarray()\n",
    "print(X_fin_3.shape)"
   ]
  },
  {
   "cell_type": "markdown",
   "id": "fd7f8df5",
   "metadata": {},
   "source": [
    "The Count Vectorizer function converts a list of words into bag of words, however notice that we specify something called as the max features to it. Basically as you might have seen in the bag of words illustration table, each word will have separate column. This number of columns can explode into large numbers in big datasets.\n",
    "\n",
    "To avoid this we set the max columns as 2500, and basically keep the maximum occurring 2500 words. Also we set the stop_words parameter to the name of the the subject(climate change) and url words, as we want to remove that from the tweets as well.\n",
    "\n",
    "Finall the cv.fit_transform function takes the cleaned_data and converts it into the bag of words that we wanted."
   ]
  },
  {
   "cell_type": "markdown",
   "id": "736a92df",
   "metadata": {},
   "source": [
    "Let’s have a look at the output column ‘y’"
   ]
  },
  {
   "cell_type": "code",
   "execution_count": 12,
   "id": "afa30cf6",
   "metadata": {},
   "outputs": [
    {
     "data": {
      "text/plain": [
       "0    1\n",
       "1    1\n",
       "2    2\n",
       "3    1\n",
       "4    1\n",
       "Name: sentiment, dtype: int64"
      ]
     },
     "execution_count": 12,
     "metadata": {},
     "output_type": "execute_result"
    }
   ],
   "source": [
    "y.head()"
   ]
  },
  {
   "cell_type": "markdown",
   "id": "32650293",
   "metadata": {},
   "source": [
    "As we can see the output is already in numeric format, so no processing is necessary."
   ]
  },
  {
   "cell_type": "markdown",
   "id": "76c9ead5",
   "metadata": {},
   "source": [
    "## Build the NLP models\n",
    "\n",
    "In this section multiple models will be build in oder to find the mosr accurate model, the accuracy of the model will be measured by the f1 score. Now to build the model we split the dataset into a training and testing section(testing size=30% of the actual data and use random_state = 42). To actually fit the model, we call the model.fit function and supply it the training input and output.\n",
    "\n",
    "Four train test split will be created for X_fin_1 to X_fin_4 to evalute the acuracy."
   ]
  },
  {
   "cell_type": "code",
   "execution_count": 123,
   "id": "3661fda8",
   "metadata": {},
   "outputs": [],
   "source": [
    "# Split 1\n",
    "X_train_1, X_test_1, y_train_1, y_test_1 =train_test_split(X_fin_1,y,test_size=0.3 , random_state = 42)\n",
    "\n",
    "# Split2\n",
    "X_train_2, X_test_2, y_train_2, y_test_2 =train_test_split(X_fin_2,y,test_size=0.3 , random_state = 42)\n",
    "\n",
    "# Split 3\n",
    "X_train_3, X_test_3, y_train_3, y_test_3 =train_test_split(X_fin_3,y,test_size=0.3 , random_state = 42)\n",
    "\n",
    "# Split 4\n",
    "#X_train_4, X_test_4, y_train_4, y_test_4 =train_test_split(X_fin_4,y,test_size=0.3 , random_state = 42)\n",
    "\n",
    "#scaler = StandardScaler()\n",
    "#scaler.fit(X_train)\n",
    "#X_train = scaler.transform(X_train)\n",
    "#X_test = scaler.transform(X_test)"
   ]
  },
  {
   "cell_type": "markdown",
   "id": "a338f8aa",
   "metadata": {},
   "source": [
    "#### Model 1: MultinomialNB\n",
    "I am going to use the Multinomial Naive Bayes model to figure out the relationship between the input and the output. Multinomial NB is a supervised learning algorithm that works really well for text based data."
   ]
  },
  {
   "cell_type": "code",
   "execution_count": 124,
   "id": "b3b5f870",
   "metadata": {},
   "outputs": [
    {
     "name": "stdout",
     "output_type": "stream",
     "text": [
      "macro f1 score: 0.6158209731451768\n"
     ]
    }
   ],
   "source": [
    "model_1 = MultinomialNB()\n",
    "\n",
    "model_1.fit(X_train_1, y_train_1)\n",
    "y_pred_1 = model_1.predict(X_test_1)\n",
    "\n",
    "#c_report = classification_report(y_test, y_pred)\n",
    "\n",
    "f1score_1 = f1_score(y_test_1, y_pred_1, average= 'macro')\n",
    "print('macro f1 score:', f1score_1)"
   ]
  },
  {
   "cell_type": "code",
   "execution_count": 125,
   "id": "1fa65b9e",
   "metadata": {},
   "outputs": [
    {
     "name": "stdout",
     "output_type": "stream",
     "text": [
      "macro f1 score: 0.6146814243408866\n"
     ]
    }
   ],
   "source": [
    "model_1.fit(X_train_2, y_train_2)\n",
    "y_pred_2 = model_1.predict(X_test_2)\n",
    "\n",
    "#c_report = classification_report(y_test, y_pred)\n",
    "\n",
    "f1score_2 = f1_score(y_test_2, y_pred_2, average= 'macro')\n",
    "print('macro f1 score:', f1score_2)"
   ]
  },
  {
   "cell_type": "code",
   "execution_count": 126,
   "id": "18f8cf87",
   "metadata": {},
   "outputs": [
    {
     "name": "stdout",
     "output_type": "stream",
     "text": [
      "macro f1 score: 0.6111672933457856\n"
     ]
    }
   ],
   "source": [
    "model_1.fit(X_train_3, y_train_3)\n",
    "y_pred_3 = model_1.predict(X_test_3)\n",
    "\n",
    "#c_report = classification_report(y_test, y_pred)\n",
    "\n",
    "f1score_3 = f1_score(y_test_3, y_pred_3, average= 'macro')\n",
    "print('macro f1 score:', f1score_3)"
   ]
  },
  {
   "cell_type": "markdown",
   "id": "e2e346d0",
   "metadata": {},
   "source": [
    "The accuracy is not great as as macro f1 score of greater than 0.7 is requiered. To improve it, there are several things that we could do, for example using something called as lemmatization instead of stemming, using a balanced dataset, and trying with different machine learning models as well."
   ]
  },
  {
   "cell_type": "markdown",
   "id": "74121ba3",
   "metadata": {},
   "source": [
    "#### Model 2: LogisticRegression"
   ]
  },
  {
   "cell_type": "code",
   "execution_count": 127,
   "id": "36b68ce9",
   "metadata": {},
   "outputs": [
    {
     "name": "stdout",
     "output_type": "stream",
     "text": [
      "macro f1 score: 0.6475815208063183\n"
     ]
    }
   ],
   "source": [
    "model_2 = LogisticRegression()\n",
    "\n",
    "model_2.fit(X_train_1, y_train_1)\n",
    "y_pred_4 = model_2.predict(X_test_1)\n",
    "\n",
    "#c_report = classification_report(y_test, y_pred)\n",
    "\n",
    "f1score_4 = f1_score(y_test_1, y_pred_4, average= 'macro')\n",
    "print('macro f1 score:', f1score_4)"
   ]
  },
  {
   "cell_type": "code",
   "execution_count": 128,
   "id": "aa148155",
   "metadata": {},
   "outputs": [
    {
     "name": "stdout",
     "output_type": "stream",
     "text": [
      "macro f1 score: 0.6467858655776973\n"
     ]
    }
   ],
   "source": [
    "\n",
    "model_2.fit(X_train_2, y_train_2)\n",
    "y_pred_5 = model_2.predict(X_test_2)\n",
    "\n",
    "#c_report = classification_report(y_test, y_pred)\n",
    "\n",
    "f1score_5 = f1_score(y_test_2, y_pred_5, average= 'macro')\n",
    "print('macro f1 score:', f1score_5)"
   ]
  },
  {
   "cell_type": "code",
   "execution_count": 129,
   "id": "a6035d9b",
   "metadata": {},
   "outputs": [
    {
     "name": "stdout",
     "output_type": "stream",
     "text": [
      "macro f1 score: 0.6467537174396599\n"
     ]
    }
   ],
   "source": [
    "\n",
    "model_2.fit(X_train_3, y_train_3)\n",
    "y_pred_6 = model_2.predict(X_test_3)\n",
    "\n",
    "#c_report = classification_report(y_test, y_pred)\n",
    "\n",
    "f1score_6 = f1_score(y_test_3, y_pred_6, average= 'macro')\n",
    "print('macro f1 score:', f1score_6)"
   ]
  },
  {
   "cell_type": "markdown",
   "id": "4b9c0e06",
   "metadata": {},
   "source": [
    "#### Model 3: RandomForestClassifier"
   ]
  },
  {
   "cell_type": "code",
   "execution_count": 130,
   "id": "54fe932a",
   "metadata": {},
   "outputs": [
    {
     "name": "stdout",
     "output_type": "stream",
     "text": [
      "macro f1 score: 0.5929441692104871\n"
     ]
    }
   ],
   "source": [
    "model_3 = RandomForestClassifier()\n",
    "\n",
    "model_3.fit(X_train_1, y_train_1)\n",
    "y_pred_7 = model_3.predict(X_test_1)\n",
    "\n",
    "#c_report = classification_report(y_test, y_pred)\n",
    "\n",
    "f1score_7 = f1_score(y_test_1, y_pred_7, average= 'macro')\n",
    "print('macro f1 score:', f1score_7)"
   ]
  },
  {
   "cell_type": "code",
   "execution_count": 131,
   "id": "c8da8f8e",
   "metadata": {},
   "outputs": [
    {
     "name": "stdout",
     "output_type": "stream",
     "text": [
      "macro f1 score: 0.5899667005005761\n"
     ]
    }
   ],
   "source": [
    "model_3.fit(X_train_2, y_train_2)\n",
    "y_pred_8 = model_3.predict(X_test_2)\n",
    "\n",
    "#c_report = classification_report(y_test, y_pred)\n",
    "\n",
    "f1score_8 = f1_score(y_test_2, y_pred_8, average= 'macro')\n",
    "print('macro f1 score:', f1score_8)"
   ]
  },
  {
   "cell_type": "code",
   "execution_count": 132,
   "id": "a7defc36",
   "metadata": {},
   "outputs": [
    {
     "name": "stdout",
     "output_type": "stream",
     "text": [
      "macro f1 score: 0.5880892816568593\n"
     ]
    }
   ],
   "source": [
    "model_3.fit(X_train_3, y_train_3)\n",
    "y_pred_9 = model_3.predict(X_test_3)\n",
    "\n",
    "#c_report = classification_report(y_test, y_pred)\n",
    "\n",
    "f1score_9 = f1_score(y_test_3, y_pred_9, average= 'macro')\n",
    "print('macro f1 score:', f1score_9)"
   ]
  },
  {
   "cell_type": "code",
   "execution_count": null,
   "id": "c11696c2",
   "metadata": {},
   "outputs": [],
   "source": []
  },
  {
   "cell_type": "code",
   "execution_count": null,
   "id": "bd6ae75f",
   "metadata": {},
   "outputs": [],
   "source": []
  },
  {
   "cell_type": "code",
   "execution_count": null,
   "id": "d325ef84",
   "metadata": {},
   "outputs": [],
   "source": []
  },
  {
   "cell_type": "code",
   "execution_count": null,
   "id": "c3f29b68",
   "metadata": {},
   "outputs": [],
   "source": []
  },
  {
   "cell_type": "markdown",
   "id": "1d0133e6",
   "metadata": {},
   "source": [
    "## Compare models\n",
    "\n",
    "Models will be compared based on the f1 score the model in tabular format.\n",
    "Expand on f1 score"
   ]
  },
  {
   "cell_type": "code",
   "execution_count": 133,
   "id": "83233960",
   "metadata": {},
   "outputs": [],
   "source": [
    "model_comp = {'model_name' : ['MultinomialNB_1', 'MultinomialNB_2', 'MultinomialNB_3',\n",
    "                              'LogisticRegression_1', 'LogisticRegression_2', 'LogisticRegression_3',\n",
    "                              'RandomForestClassifier_1', 'RandomForestClassifier_2', 'RandomForestClassifier_3'],\n",
    "                   'f1_score' : [f1score_1, f1score_2, f1score_3,\n",
    "                                 f1score_4 ,f1score_5 ,f1score_6,\n",
    "                                 f1score_7, f1score_8, f1score_9]}\n",
    "\n",
    "\n",
    "model_comp_df = pd.DataFrame(model_comp)"
   ]
  },
  {
   "cell_type": "code",
   "execution_count": 141,
   "id": "49779eaa",
   "metadata": {},
   "outputs": [
    {
     "data": {
      "text/html": [
       "<div>\n",
       "<style scoped>\n",
       "    .dataframe tbody tr th:only-of-type {\n",
       "        vertical-align: middle;\n",
       "    }\n",
       "\n",
       "    .dataframe tbody tr th {\n",
       "        vertical-align: top;\n",
       "    }\n",
       "\n",
       "    .dataframe thead th {\n",
       "        text-align: right;\n",
       "    }\n",
       "</style>\n",
       "<table border=\"1\" class=\"dataframe\">\n",
       "  <thead>\n",
       "    <tr style=\"text-align: right;\">\n",
       "      <th></th>\n",
       "      <th>model_name</th>\n",
       "      <th>f1_score</th>\n",
       "    </tr>\n",
       "  </thead>\n",
       "  <tbody>\n",
       "    <tr>\n",
       "      <th>3</th>\n",
       "      <td>LogisticRegression_1</td>\n",
       "      <td>0.647582</td>\n",
       "    </tr>\n",
       "    <tr>\n",
       "      <th>4</th>\n",
       "      <td>LogisticRegression_2</td>\n",
       "      <td>0.646786</td>\n",
       "    </tr>\n",
       "    <tr>\n",
       "      <th>5</th>\n",
       "      <td>LogisticRegression_3</td>\n",
       "      <td>0.646754</td>\n",
       "    </tr>\n",
       "    <tr>\n",
       "      <th>0</th>\n",
       "      <td>MultinomialNB_1</td>\n",
       "      <td>0.615821</td>\n",
       "    </tr>\n",
       "    <tr>\n",
       "      <th>1</th>\n",
       "      <td>MultinomialNB_2</td>\n",
       "      <td>0.614681</td>\n",
       "    </tr>\n",
       "    <tr>\n",
       "      <th>2</th>\n",
       "      <td>MultinomialNB_3</td>\n",
       "      <td>0.611167</td>\n",
       "    </tr>\n",
       "    <tr>\n",
       "      <th>6</th>\n",
       "      <td>RandomForestClassifier_1</td>\n",
       "      <td>0.592944</td>\n",
       "    </tr>\n",
       "    <tr>\n",
       "      <th>7</th>\n",
       "      <td>RandomForestClassifier_2</td>\n",
       "      <td>0.589967</td>\n",
       "    </tr>\n",
       "    <tr>\n",
       "      <th>8</th>\n",
       "      <td>RandomForestClassifier_3</td>\n",
       "      <td>0.588089</td>\n",
       "    </tr>\n",
       "  </tbody>\n",
       "</table>\n",
       "</div>"
      ],
      "text/plain": [
       "                 model_name  f1_score\n",
       "3      LogisticRegression_1  0.647582\n",
       "4      LogisticRegression_2  0.646786\n",
       "5      LogisticRegression_3  0.646754\n",
       "0           MultinomialNB_1  0.615821\n",
       "1           MultinomialNB_2  0.614681\n",
       "2           MultinomialNB_3  0.611167\n",
       "6  RandomForestClassifier_1  0.592944\n",
       "7  RandomForestClassifier_2  0.589967\n",
       "8  RandomForestClassifier_3  0.588089"
      ]
     },
     "execution_count": 141,
     "metadata": {},
     "output_type": "execute_result"
    }
   ],
   "source": [
    "model_comp_df.sort_values('f1_score',ascending=False)"
   ]
  },
  {
   "cell_type": "code",
   "execution_count": null,
   "id": "b5e9edda",
   "metadata": {},
   "outputs": [],
   "source": []
  },
  {
   "cell_type": "code",
   "execution_count": null,
   "id": "a0ad564e",
   "metadata": {},
   "outputs": [],
   "source": []
  },
  {
   "cell_type": "code",
   "execution_count": null,
   "id": "56348524",
   "metadata": {},
   "outputs": [],
   "source": []
  },
  {
   "cell_type": "code",
   "execution_count": null,
   "id": "2f73d926",
   "metadata": {},
   "outputs": [],
   "source": []
  },
  {
   "cell_type": "code",
   "execution_count": null,
   "id": "db28f2bf",
   "metadata": {},
   "outputs": [],
   "source": []
  }
 ],
 "metadata": {
  "kernelspec": {
   "display_name": "Python 3",
   "language": "python",
   "name": "python3"
  },
  "language_info": {
   "codemirror_mode": {
    "name": "ipython",
    "version": 3
   },
   "file_extension": ".py",
   "mimetype": "text/x-python",
   "name": "python",
   "nbconvert_exporter": "python",
   "pygments_lexer": "ipython3",
   "version": "3.8.8"
  }
 },
 "nbformat": 4,
 "nbformat_minor": 5
}
